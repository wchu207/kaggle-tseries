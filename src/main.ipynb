{
 "cells": [
  {
   "cell_type": "code",
   "execution_count": null,
   "id": "eb718dc7-b890-40fe-93d7-8bc735d5257b",
   "metadata": {},
   "outputs": [],
   "source": [
    "import random\n",
    "import numpy as np\n",
    "import pandas as pd\n",
    "from sm_wrapper import SMWrapper\n",
    "from preprocessor import Preprocessor\n",
    "from sklearn.model_selection import train_test_split\n",
    "from statsmodels.tsa.seasonal import MSTL\n",
    "\n",
    "seed = 12\n",
    "np.random.seed(seed)\n",
    "random.seed(seed)"
   ]
  },
  {
   "cell_type": "code",
   "execution_count": null,
   "id": "c362be08-5921-47b6-a0b6-4c02fe5c24ac",
   "metadata": {},
   "outputs": [],
   "source": [
    "df = pd.read_csv(\"../data/train.csv\")\n",
    "df['date'] = pd.to_datetime(df['date'])"
   ]
  },
  {
   "cell_type": "code",
   "execution_count": null,
   "id": "06860ba2-1a24-446a-a0fa-63aeb39891e8",
   "metadata": {},
   "outputs": [],
   "source": [
    "date_cutoff = df['date'].quantile(0.65)\n",
    "train_df = df.loc[df['date'] < date_cutoff, :]\n",
    "test_df = df.loc[df['date'] >= date_cutoff, :]"
   ]
  },
  {
   "cell_type": "code",
   "execution_count": null,
   "id": "ea8905c8-83fc-48f5-898e-45480c4ff32b",
   "metadata": {},
   "outputs": [],
   "source": [
    "train_series = train_df.pivot(index='date', columns=[\"store_nbr\", \"family\"], values=[\"sales\", \"onpromotion\"])\n",
    "model = SMWrapper()\n",
    "model.fit(train_series['sales'].to_numpy(), exog=train_series['onpromotion'].to_numpy())"
   ]
  },
  {
   "cell_type": "code",
   "execution_count": null,
   "id": "40146975-6b64-4242-8b40-e2f5789297e4",
   "metadata": {},
   "outputs": [],
   "source": [
    "Prep = Preprocessor()\n",
    "impute_series = Prep.impute(train_series)"
   ]
  }
 ],
 "metadata": {
  "kernelspec": {
   "display_name": "Python 3 (ipykernel)",
   "language": "python",
   "name": "python3"
  },
  "language_info": {
   "codemirror_mode": {
    "name": "ipython",
    "version": 3
   },
   "file_extension": ".py",
   "mimetype": "text/x-python",
   "name": "python",
   "nbconvert_exporter": "python",
   "pygments_lexer": "ipython3",
   "version": "3.12.7"
  }
 },
 "nbformat": 4,
 "nbformat_minor": 5
}

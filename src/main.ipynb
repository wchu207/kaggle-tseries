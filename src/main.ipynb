{
 "cells": [
  {
   "cell_type": "code",
   "execution_count": null,
   "id": "eb718dc7-b890-40fe-93d7-8bc735d5257b",
   "metadata": {},
   "outputs": [],
   "source": [
    "import random\n",
    "import numpy as np\n",
    "import pandas as pd\n",
    "import matplotlib\n",
    "from time import time\n",
    "from model import ForecastingModel\n",
    "from sklearn.model_selection import train_test_split\n",
    "from multi_stl import MultiSTL\n",
    "from statsmodels.api import add_constant\n",
    "from statsmodels.regression.linear_model import OLS\n",
    "from cProfile import Profile\n",
    "\n",
    "seed = 12\n",
    "np.random.seed(seed)\n",
    "random.seed(seed)"
   ]
  },
  {
   "cell_type": "code",
   "execution_count": null,
   "id": "c362be08-5921-47b6-a0b6-4c02fe5c24ac",
   "metadata": {},
   "outputs": [],
   "source": [
    "df = pd.read_csv(\"../data/train.csv\")\n",
    "df['date'] = pd.to_datetime(df['date'])"
   ]
  },
  {
   "cell_type": "code",
   "execution_count": null,
   "id": "06860ba2-1a24-446a-a0fa-63aeb39891e8",
   "metadata": {},
   "outputs": [],
   "source": [
    "date_cutoff = df['date'].quantile(0.65)\n",
    "train_df = df.loc[df['date'] < date_cutoff, :].drop(\"id\", axis=1)\n",
    "test_df = df.loc[df['date'] >= date_cutoff, :].drop(\"id\", axis=1)\n",
    "\n",
    "train_df = train_df[train_df['store_nbr'] < 2]"
   ]
  },
  {
   "cell_type": "code",
   "execution_count": null,
   "id": "2ed2b973-93e5-414b-a714-a20e98ee24b8",
   "metadata": {},
   "outputs": [],
   "source": [
    "model = ForecastingModel()\n",
    "with Profile() as profile:\n",
    "    model.fit(train_df, \"date\", \"sales\", \"onpromotion\")\n",
    "    print(f\"{fib(35) = }\")\n",
    "    (\n",
    "        Stats(profile)\n",
    "        .strip_dirs()\n",
    "        .sort_stats(SortKey.CALLS)\n",
    "        .print_stats()\n",
    "    )"
   ]
  },
  {
   "cell_type": "code",
   "execution_count": null,
   "id": "36dc4cc5-1dc2-4234-9a6f-a882a79494a7",
   "metadata": {},
   "outputs": [],
   "source": [
    "model.models"
   ]
  }
 ],
 "metadata": {
  "kernelspec": {
   "display_name": "Python 3 (ipykernel)",
   "language": "python",
   "name": "python3"
  },
  "language_info": {
   "codemirror_mode": {
    "name": "ipython",
    "version": 3
   },
   "file_extension": ".py",
   "mimetype": "text/x-python",
   "name": "python",
   "nbconvert_exporter": "python",
   "pygments_lexer": "ipython3",
   "version": "3.12.7"
  }
 },
 "nbformat": 4,
 "nbformat_minor": 5
}

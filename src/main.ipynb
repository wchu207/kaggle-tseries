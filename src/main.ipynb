{
 "cells": [
  {
   "cell_type": "code",
   "execution_count": 1,
   "id": "57c198c2-023c-4ede-9821-5f20e8d7334e",
   "metadata": {},
   "outputs": [],
   "source": [
    "import random\n",
    "import numpy as np\n",
    "import pandas as pd\n",
    "from sklearn.model_selection import train_test_split"
   ]
  },
  {
   "cell_type": "code",
   "execution_count": 2,
   "id": "74b473de-b2c1-4565-ae52-36fec6e08f57",
   "metadata": {},
   "outputs": [],
   "source": [
    "seed = 12\n",
    "np.random.seed(seed)\n",
    "random.seed(seed)"
   ]
  },
  {
   "cell_type": "code",
   "execution_count": 3,
   "id": "c362be08-5921-47b6-a0b6-4c02fe5c24ac",
   "metadata": {},
   "outputs": [],
   "source": [
    "df = pd.read_csv(\"../data/train.csv\")\n",
    "df['date'] = pd.to_datetime(df['date'])\n"
   ]
  },
  {
   "cell_type": "code",
   "execution_count": 4,
   "id": "06860ba2-1a24-446a-a0fa-63aeb39891e8",
   "metadata": {},
   "outputs": [],
   "source": [
    "date_cutoff = df['date'].quantile(0.65)\n",
    "train_df = df.loc[df['date'] < date_cutoff, :]\n",
    "test_df = df.loc[df['date'] >= date_cutoff, :]"
   ]
  },
  {
   "cell_type": "code",
   "execution_count": 5,
   "id": "3d5f8a77-863f-49ee-bfdb-215a5747edee",
   "metadata": {},
   "outputs": [
    {
     "data": {
      "text/plain": [
       "1094"
      ]
     },
     "execution_count": 5,
     "metadata": {},
     "output_type": "execute_result"
    }
   ],
   "source": [
    "train_g = train_df.groupby(['date'])\n",
    "len(train_g)"
   ]
  },
  {
   "cell_type": "code",
   "execution_count": 6,
   "id": "b96769af-990c-446a-b3d9-d46a79ed3944",
   "metadata": {},
   "outputs": [],
   "source": [
    "store_nbrs = pd.unique(train_df['store_nbr'])\n",
    "store_nbrs.sort()\n",
    "\n",
    "product_fams = pd.unique(train_df['family'])\n",
    "product_fams.sort()"
   ]
  },
  {
   "cell_type": "code",
   "execution_count": 7,
   "id": "808239b9",
   "metadata": {},
   "outputs": [
    {
     "data": {
      "text/html": [
       "<div>\n",
       "<style scoped>\n",
       "    .dataframe tbody tr th:only-of-type {\n",
       "        vertical-align: middle;\n",
       "    }\n",
       "\n",
       "    .dataframe tbody tr th {\n",
       "        vertical-align: top;\n",
       "    }\n",
       "\n",
       "    .dataframe thead th {\n",
       "        text-align: right;\n",
       "    }\n",
       "</style>\n",
       "<table border=\"1\" class=\"dataframe\">\n",
       "  <thead>\n",
       "    <tr style=\"text-align: right;\">\n",
       "      <th></th>\n",
       "      <th>id</th>\n",
       "      <th>date</th>\n",
       "      <th>store_nbr</th>\n",
       "      <th>family</th>\n",
       "      <th>sales</th>\n",
       "      <th>onpromotion</th>\n",
       "    </tr>\n",
       "  </thead>\n",
       "  <tbody>\n",
       "    <tr>\n",
       "      <th>0</th>\n",
       "      <td>0</td>\n",
       "      <td>2013-01-01</td>\n",
       "      <td>1</td>\n",
       "      <td>AUTOMOTIVE</td>\n",
       "      <td>0.00000</td>\n",
       "      <td>0</td>\n",
       "    </tr>\n",
       "    <tr>\n",
       "      <th>1</th>\n",
       "      <td>1</td>\n",
       "      <td>2013-01-01</td>\n",
       "      <td>1</td>\n",
       "      <td>BABY CARE</td>\n",
       "      <td>0.00000</td>\n",
       "      <td>0</td>\n",
       "    </tr>\n",
       "    <tr>\n",
       "      <th>2</th>\n",
       "      <td>2</td>\n",
       "      <td>2013-01-01</td>\n",
       "      <td>1</td>\n",
       "      <td>BEAUTY</td>\n",
       "      <td>0.00000</td>\n",
       "      <td>0</td>\n",
       "    </tr>\n",
       "    <tr>\n",
       "      <th>3</th>\n",
       "      <td>3</td>\n",
       "      <td>2013-01-01</td>\n",
       "      <td>1</td>\n",
       "      <td>BEVERAGES</td>\n",
       "      <td>0.00000</td>\n",
       "      <td>0</td>\n",
       "    </tr>\n",
       "    <tr>\n",
       "      <th>4</th>\n",
       "      <td>4</td>\n",
       "      <td>2013-01-01</td>\n",
       "      <td>1</td>\n",
       "      <td>BOOKS</td>\n",
       "      <td>0.00000</td>\n",
       "      <td>0</td>\n",
       "    </tr>\n",
       "    <tr>\n",
       "      <th>...</th>\n",
       "      <td>...</td>\n",
       "      <td>...</td>\n",
       "      <td>...</td>\n",
       "      <td>...</td>\n",
       "      <td>...</td>\n",
       "      <td>...</td>\n",
       "    </tr>\n",
       "    <tr>\n",
       "      <th>1949503</th>\n",
       "      <td>1949503</td>\n",
       "      <td>2016-01-02</td>\n",
       "      <td>9</td>\n",
       "      <td>POULTRY</td>\n",
       "      <td>643.12897</td>\n",
       "      <td>0</td>\n",
       "    </tr>\n",
       "    <tr>\n",
       "      <th>1949504</th>\n",
       "      <td>1949504</td>\n",
       "      <td>2016-01-02</td>\n",
       "      <td>9</td>\n",
       "      <td>PREPARED FOODS</td>\n",
       "      <td>113.00000</td>\n",
       "      <td>0</td>\n",
       "    </tr>\n",
       "    <tr>\n",
       "      <th>1949505</th>\n",
       "      <td>1949505</td>\n",
       "      <td>2016-01-02</td>\n",
       "      <td>9</td>\n",
       "      <td>PRODUCE</td>\n",
       "      <td>2029.37900</td>\n",
       "      <td>0</td>\n",
       "    </tr>\n",
       "    <tr>\n",
       "      <th>1949506</th>\n",
       "      <td>1949506</td>\n",
       "      <td>2016-01-02</td>\n",
       "      <td>9</td>\n",
       "      <td>SCHOOL AND OFFICE SUPPLIES</td>\n",
       "      <td>4.00000</td>\n",
       "      <td>0</td>\n",
       "    </tr>\n",
       "    <tr>\n",
       "      <th>1949507</th>\n",
       "      <td>1949507</td>\n",
       "      <td>2016-01-02</td>\n",
       "      <td>9</td>\n",
       "      <td>SEAFOOD</td>\n",
       "      <td>24.14600</td>\n",
       "      <td>4</td>\n",
       "    </tr>\n",
       "  </tbody>\n",
       "</table>\n",
       "<p>1949508 rows × 6 columns</p>\n",
       "</div>"
      ],
      "text/plain": [
       "              id       date  store_nbr                      family  \\\n",
       "0              0 2013-01-01          1                  AUTOMOTIVE   \n",
       "1              1 2013-01-01          1                   BABY CARE   \n",
       "2              2 2013-01-01          1                      BEAUTY   \n",
       "3              3 2013-01-01          1                   BEVERAGES   \n",
       "4              4 2013-01-01          1                       BOOKS   \n",
       "...          ...        ...        ...                         ...   \n",
       "1949503  1949503 2016-01-02          9                     POULTRY   \n",
       "1949504  1949504 2016-01-02          9              PREPARED FOODS   \n",
       "1949505  1949505 2016-01-02          9                     PRODUCE   \n",
       "1949506  1949506 2016-01-02          9  SCHOOL AND OFFICE SUPPLIES   \n",
       "1949507  1949507 2016-01-02          9                     SEAFOOD   \n",
       "\n",
       "              sales  onpromotion  \n",
       "0           0.00000            0  \n",
       "1           0.00000            0  \n",
       "2           0.00000            0  \n",
       "3           0.00000            0  \n",
       "4           0.00000            0  \n",
       "...             ...          ...  \n",
       "1949503   643.12897            0  \n",
       "1949504   113.00000            0  \n",
       "1949505  2029.37900            0  \n",
       "1949506     4.00000            0  \n",
       "1949507    24.14600            4  \n",
       "\n",
       "[1949508 rows x 6 columns]"
      ]
     },
     "execution_count": 7,
     "metadata": {},
     "output_type": "execute_result"
    }
   ],
   "source": [
    "train_df"
   ]
  },
  {
   "cell_type": "code",
   "execution_count": 8,
   "id": "4e33f7c7-dda0-4bcd-aa2f-065f2ac82eb5",
   "metadata": {},
   "outputs": [],
   "source": [
    "train_series = pd.pivot(train_df, index='date', columns=['store_nbr', 'family'], values=['sales', 'onpromotion'])"
   ]
  },
  {
   "cell_type": "code",
   "execution_count": 13,
   "id": "6d091b7a-becf-4e60-a7b4-278f0877d887",
   "metadata": {},
   "outputs": [
    {
     "data": {
      "text/plain": [
       "DatetimeIndex(['2013-12-24', '2013-12-26', '2013-12-27', '2013-12-28',\n",
       "               '2013-12-29', '2013-12-30', '2013-12-31', '2014-01-01',\n",
       "               '2014-01-02', '2014-01-03',\n",
       "               ...\n",
       "               '2015-12-23', '2015-12-24', '2015-12-26', '2015-12-27',\n",
       "               '2015-12-28', '2015-12-29', '2015-12-30', '2015-12-31',\n",
       "               '2016-01-01', '2016-01-02'],\n",
       "              dtype='datetime64[ns]', name='date', length=737, freq=None)"
      ]
     },
     "execution_count": 13,
     "metadata": {},
     "output_type": "execute_result"
    }
   ],
   "source": []
  }
 ],
 "metadata": {
  "kernelspec": {
   "display_name": "ml",
   "language": "python",
   "name": "ml"
  },
  "language_info": {
   "codemirror_mode": {
    "name": "ipython",
    "version": 3
   },
   "file_extension": ".py",
   "mimetype": "text/x-python",
   "name": "python",
   "nbconvert_exporter": "python",
   "pygments_lexer": "ipython3",
   "version": "3.10.13"
  }
 },
 "nbformat": 4,
 "nbformat_minor": 5
}
